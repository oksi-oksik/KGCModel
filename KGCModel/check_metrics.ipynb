{
  "cells": [
    {
      "cell_type": "code",
      "execution_count": 35,
      "metadata": {
        "id": "K2cMQkGbY4Eb"
      },
      "outputs": [],
      "source": [
        "from pykeen.models import ERModel, TransE, DistMult, RotatE\n",
        "from pykeen.nn import Embedding\n",
        "from pykeen.nn.modules import Interaction, NormBasedInteraction\n",
        "from torch import FloatTensor\n",
        "from pykeen.pipeline import pipeline\n",
        "from class_resolver import Hint, HintOrType, OptionalKwargs\n",
        "from torch.nn import functional\n",
        "from pykeen.nn.init import xavier_uniform_, xavier_uniform_norm_, xavier_normal_norm_\n",
        "from pykeen.typing import Constrainer, Initializer\n",
        "from pykeen.regularizers import Regularizer, LpRegularizer\n",
        "from typing import Union, Any, ClassVar, Mapping\n",
        "from pykeen.utils import negative_norm_of_sum, tensor_product\n",
        "from pykeen.constants import DEFAULT_EMBEDDING_HPO_EMBEDDING_DIM_RANGE"
      ]
    },
    {
      "cell_type": "code",
      "execution_count": 18,
      "metadata": {
        "id": "z_89CKiLZiMe"
      },
      "outputs": [],
      "source": [
        "def kgcmodel_interaction(\n",
        "    h: FloatTensor,\n",
        "    r: FloatTensor,\n",
        "    t: FloatTensor,\n",
        "    p: Union[int, str] = 2,\n",
        "    power_norm: bool = False,\n",
        ") -> FloatTensor:\n",
        "    return (tensor_product(h, r, t).sum(dim=-1) * negative_norm_of_sum(h, r, -t, p=p, power_norm=power_norm))"
      ]
    },
    {
      "cell_type": "code",
      "execution_count": 19,
      "metadata": {
        "id": "ThFgfSOxaN7G"
      },
      "outputs": [],
      "source": [
        "class KGCModelInteraction(NormBasedInteraction[FloatTensor, FloatTensor, FloatTensor]):\n",
        "\n",
        "    func = kgcmodel_interaction"
      ]
    },
    {
      "cell_type": "code",
      "execution_count": 28,
      "metadata": {
        "id": "QrCiw_AqaQ0z"
      },
      "outputs": [],
      "source": [
        "class KGCModel(ERModel):\n",
        "\n",
        "    hpo_default: ClassVar[Mapping[str, Any]] = dict(\n",
        "        embedding_dim=DEFAULT_EMBEDDING_HPO_EMBEDDING_DIM_RANGE,\n",
        "        scoring_fct_norm=dict(type=int, low=1, high=2),\n",
        "    )\n",
        "\n",
        "    def __init__(\n",
        "        self,\n",
        "        *,\n",
        "        embedding_dim: int = 50,\n",
        "        scoring_fct_norm: int = 1,\n",
        "        entity_initializer: Hint[Initializer] = xavier_uniform_,\n",
        "        entity_constrainer: Hint[Constrainer] = functional.normalize,\n",
        "        relation_initializer: Hint[Initializer] = xavier_uniform_norm_,\n",
        "        relation_constrainer: Hint[Constrainer] = None,\n",
        "        regularizer: HintOrType[Regularizer] = LpRegularizer,\n",
        "        regularizer_kwargs: OptionalKwargs = None,\n",
        "        **kwargs,\n",
        "    ) -> None:\n",
        "\n",
        "        if regularizer is LpRegularizer and regularizer_kwargs is None:\n",
        "            regularizer_kwargs = DistMult.regularizer_default_kwargs\n",
        "\n",
        "        super().__init__(\n",
        "            interaction=KGCModelInteraction,\n",
        "            interaction_kwargs=dict(p=scoring_fct_norm),\n",
        "            entity_representations=Embedding,\n",
        "            entity_representations_kwargs=dict(\n",
        "                embedding_dim=embedding_dim,\n",
        "                initializer=entity_initializer,\n",
        "                constrainer=entity_constrainer,\n",
        "            ),\n",
        "            relation_representations=Embedding,\n",
        "            relation_representations_kwargs=dict(\n",
        "                embedding_dim=embedding_dim,\n",
        "                initializer=relation_initializer,\n",
        "                constrainer=relation_constrainer,\n",
        "                regularizer=regularizer,\n",
        "                regularizer_kwargs=regularizer_kwargs,\n",
        "            ),\n",
        "            **kwargs,\n",
        "        )"
      ]
    },
    {
      "cell_type": "markdown",
      "metadata": {
        "id": "O4J6_8izpLGf"
      },
      "source": [
        "## Сравнение значений метрик моделей TransE, DistMult, KGCModel на датасете Nations."
      ]
    },
    {
      "cell_type": "code",
      "execution_count": null,
      "metadata": {
        "id": "zNnhdYgBaVKe"
      },
      "outputs": [],
      "source": [
        "result_KGCModel = pipeline(\n",
        "    model=KGCModel,\n",
        "    dataset='nations',\n",
        "    training_kwargs={'num_epochs':100},\n",
        "    random_seed=1603073093\n",
        ")"
      ]
    },
    {
      "cell_type": "code",
      "execution_count": 30,
      "metadata": {
        "colab": {
          "base_uri": "https://localhost:8080/"
        },
        "id": "ucfqisWwaXet",
        "outputId": "8565a51b-5da3-4f71-9d38-7f145981cc6a"
      },
      "outputs": [
        {
          "name": "stdout",
          "output_type": "stream",
          "text": [
            "MRR: 0.6104003190994263\n",
            "Hits@1 : 0.43781094527363185\n",
            "Hits@3 : 0.7189054726368159\n",
            "Hits@5 : 0.8159203980099502\n",
            "Hits@10 : 0.9701492537313433\n"
          ]
        }
      ],
      "source": [
        "print(f\"MRR: {result_KGCModel.metric_results.to_flat_dict()['both.realistic.inverse_harmonic_mean_rank']}\")\n",
        "for k in [1,3,5,10]:\n",
        "  print(f\"Hits@{k} : {result_KGCModel.metric_results.to_flat_dict()['both.realistic.hits_at_'+str(k)]}\")"
      ]
    },
    {
      "cell_type": "code",
      "execution_count": null,
      "metadata": {
        "id": "zEowffbdb0Im"
      },
      "outputs": [],
      "source": [
        "result_DistMult = pipeline(\n",
        "    model=DistMult,\n",
        "    dataset='nations',\n",
        "    training_kwargs={'num_epochs':100},\n",
        "    random_seed=1603073093\n",
        ")"
      ]
    },
    {
      "cell_type": "code",
      "execution_count": 24,
      "metadata": {
        "colab": {
          "base_uri": "https://localhost:8080/"
        },
        "id": "qo8VF_vscEV3",
        "outputId": "b5deea86-5148-4be2-ba41-91be9028f5f1"
      },
      "outputs": [
        {
          "name": "stdout",
          "output_type": "stream",
          "text": [
            "MRR: 0.59869384765625\n",
            "Hits@1 : 0.43034825870646765\n",
            "Hits@3 : 0.6691542288557214\n",
            "Hits@5 : 0.8034825870646766\n",
            "Hits@10 : 0.9776119402985075\n"
          ]
        }
      ],
      "source": [
        "print(f\"MRR: {result_DistMult.metric_results.to_flat_dict()['both.realistic.inverse_harmonic_mean_rank']}\")\n",
        "for k in [1,3,5,10]:\n",
        "  print(f\"Hits@{k} : {result_DistMult.metric_results.to_flat_dict()['both.realistic.hits_at_'+str(k)]}\")"
      ]
    },
    {
      "cell_type": "code",
      "execution_count": null,
      "metadata": {
        "id": "MQhhJROCpgvv"
      },
      "outputs": [],
      "source": [
        "result_TransE = pipeline(\n",
        "    model=TransE,\n",
        "    dataset='nations',\n",
        "    training_kwargs={'num_epochs':100},\n",
        "    random_seed=1603073093\n",
        ")"
      ]
    },
    {
      "cell_type": "code",
      "execution_count": 34,
      "metadata": {
        "colab": {
          "base_uri": "https://localhost:8080/"
        },
        "id": "TJlLjCnOpywj",
        "outputId": "1bb031ef-71b9-453f-93c0-8798f41e5344"
      },
      "outputs": [
        {
          "name": "stdout",
          "output_type": "stream",
          "text": [
            "MRR: 0.33192434906959534\n",
            "Hits@1 : 0.0\n",
            "Hits@3 : 0.5621890547263682\n",
            "Hits@5 : 0.7985074626865671\n",
            "Hits@10 : 0.9751243781094527\n"
          ]
        }
      ],
      "source": [
        "print(f\"MRR: {result_TransE.metric_results.to_flat_dict()['both.realistic.inverse_harmonic_mean_rank']}\")\n",
        "for k in [1,3,5,10]:\n",
        "  print(f\"Hits@{k} : {result_TransE.metric_results.to_flat_dict()['both.realistic.hits_at_'+str(k)]}\")"
      ]
    },
    {
      "cell_type": "markdown",
      "metadata": {
        "id": "drRJcHDxsu88"
      },
      "source": [
        "## Сравнение значений метрик моделей TransE, DistMult, KGCModel на датасете FB15k-237."
      ]
    },
    {
      "cell_type": "code",
      "execution_count": null,
      "metadata": {
        "id": "eXdjTR4fcHF9"
      },
      "outputs": [],
      "source": [
        "result_DistMultModel_FB15k_237 = pipeline(\n",
        "    model=DistMult,\n",
        "    dataset='FB15k-237',\n",
        "    training_kwargs={'num_epochs':100},\n",
        "    random_seed=1603073093\n",
        ")"
      ]
    },
    {
      "cell_type": "code",
      "execution_count": 39,
      "metadata": {
        "colab": {
          "base_uri": "https://localhost:8080/"
        },
        "id": "uP_w_06geu1Q",
        "outputId": "1ebbda71-6076-4467-9acc-a054e4654463"
      },
      "outputs": [
        {
          "name": "stdout",
          "output_type": "stream",
          "text": [
            "MRR: 0.17628440260887146\n",
            "Hits@1 : 0.1092572658772874\n",
            "Hits@3 : 0.1839465701144926\n",
            "Hits@5 : 0.23326646442900478\n",
            "Hits@10 : 0.3159311087190527\n"
          ]
        }
      ],
      "source": [
        "print(f\"MRR: {result_DistMultModel_FB15k_237.metric_results.to_flat_dict()['both.realistic.inverse_harmonic_mean_rank']}\")\n",
        "for k in [1,3,5,10]:\n",
        "  print(f\"Hits@{k} : {result_DistMultModel_FB15k_237.metric_results.to_flat_dict()['both.realistic.hits_at_'+str(k)]}\")"
      ]
    },
    {
      "cell_type": "code",
      "execution_count": null,
      "metadata": {
        "id": "CNP3D4rvqQlQ"
      },
      "outputs": [],
      "source": [
        "result_TransEModel_FB15k_237 = pipeline(\n",
        "    model=TransE,\n",
        "    dataset='FB15k-237',\n",
        "    training_kwargs={'num_epochs':100},\n",
        "    random_seed=1603073093\n",
        ")"
      ]
    },
    {
      "cell_type": "code",
      "execution_count": 41,
      "metadata": {
        "colab": {
          "base_uri": "https://localhost:8080/"
        },
        "id": "cTRB78XlqcQq",
        "outputId": "e56c1bd3-141f-4ff0-8ce3-8b5592d18e6e"
      },
      "outputs": [
        {
          "name": "stdout",
          "output_type": "stream",
          "text": [
            "MRR: 0.18099358677864075\n",
            "Hits@1 : 0.11050494177512477\n",
            "Hits@3 : 0.19214208826695373\n",
            "Hits@5 : 0.24466679714257755\n",
            "Hits@10 : 0.32495841080340543\n"
          ]
        }
      ],
      "source": [
        "print(f\"MRR: {result_TransEModel_FB15k_237.metric_results.to_flat_dict()['both.realistic.inverse_harmonic_mean_rank']}\")\n",
        "for k in [1,3,5,10]:\n",
        "  print(f\"Hits@{k} : {result_TransEModel_FB15k_237.metric_results.to_flat_dict()['both.realistic.hits_at_'+str(k)]}\")"
      ]
    },
    {
      "cell_type": "code",
      "execution_count": null,
      "metadata": {
        "id": "tOsxStc-gRCz"
      },
      "outputs": [],
      "source": [
        "result_KGCModel_FB15k_237 = pipeline(\n",
        "    model=KGCModel,\n",
        "    dataset='FB15k-237',\n",
        "    training_kwargs={'num_epochs':100},\n",
        "    random_seed=1603073093\n",
        ")"
      ]
    },
    {
      "cell_type": "code",
      "execution_count": 38,
      "metadata": {
        "colab": {
          "base_uri": "https://localhost:8080/"
        },
        "id": "KlozZm9DkS6m",
        "outputId": "5b0dc337-27ae-468f-8bce-299d26537a69"
      },
      "outputs": [
        {
          "name": "stdout",
          "output_type": "stream",
          "text": [
            "MRR: 0.19223463535308838\n",
            "Hits@1 : 0.11830903219493101\n",
            "Hits@3 : 0.20669830707505626\n",
            "Hits@5 : 0.26071533418142673\n",
            "Hits@10 : 0.34482336823563947\n"
          ]
        }
      ],
      "source": [
        "print(f\"MRR: {result_KGCModel_FB15k_237.metric_results.to_flat_dict()['both.realistic.inverse_harmonic_mean_rank']}\")\n",
        "for k in [1,3,5,10]:\n",
        "  print(f\"Hits@{k} : {result_KGCModel_FB15k_237.metric_results.to_flat_dict()['both.realistic.hits_at_'+str(k)]}\")"
      ]
    }
  ],
  "metadata": {
    "accelerator": "GPU",
    "colab": {
      "gpuType": "T4",
      "provenance": []
    },
    "kernelspec": {
      "display_name": "Python 3",
      "name": "python3"
    },
    "language_info": {
      "name": "python",
      "version": "3.10.7"
    }
  },
  "nbformat": 4,
  "nbformat_minor": 0
}
