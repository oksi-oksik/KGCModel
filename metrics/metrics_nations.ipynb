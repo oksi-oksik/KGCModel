{
  "cells": [
    {
      "cell_type": "code",
      "execution_count": 2,
      "metadata": {
        "id": "cxzeqJ2u3aWL"
      },
      "outputs": [],
      "source": [
        "#!pip install pykeen\n",
        "#!pip install torch"
      ]
    },
    {
      "cell_type": "code",
      "execution_count": 3,
      "metadata": {
        "id": "n8cOYJYm3aWO"
      },
      "outputs": [
        {
          "name": "stderr",
          "output_type": "stream",
          "text": [
            "d:\\Рабочий стол мой\\универ\\Диплом\\model\\venv\\lib\\site-packages\\tqdm\\auto.py:21: TqdmWarning: IProgress not found. Please update jupyter and ipywidgets. See https://ipywidgets.readthedocs.io/en/stable/user_install.html\n",
            "  from .autonotebook import tqdm as notebook_tqdm\n"
          ]
        }
      ],
      "source": [
        "from pykeen.models import ERModel, TransD, DistMult, TransH, TransE, RotatE, ComplEx, TuckER\n",
        "from pykeen.nn import Embedding\n",
        "from pykeen.nn.modules import Interaction, NormBasedInteraction\n",
        "from torch import FloatTensor\n",
        "from pykeen.pipeline import pipeline\n",
        "from class_resolver import Hint, HintOrType, OptionalKwargs\n",
        "from torch.nn import functional\n",
        "from pykeen.nn.init import xavier_uniform_, xavier_uniform_norm_, xavier_normal_norm_\n",
        "from pykeen.typing import Constrainer, Initializer\n",
        "from pykeen.regularizers import Regularizer, LpRegularizer\n",
        "from typing import Union, Any, ClassVar, Mapping\n",
        "from pykeen.utils import negative_norm_of_sum, tensor_product\n",
        "from pykeen.constants import DEFAULT_EMBEDDING_HPO_EMBEDDING_DIM_RANGE\n",
        "from pykeen.evaluation import RankBasedEvaluator\n",
        "from pykeen.datasets import Nations\n",
        "from torch.optim import Adam, SGD\n",
        "from pykeen.predict import predict_triples"
      ]
    },
    {
      "cell_type": "markdown",
      "metadata": {},
      "source": [
        "## TransE"
      ]
    },
    {
      "cell_type": "code",
      "execution_count": 2,
      "metadata": {
        "id": "ssiN11yy3aWQ"
      },
      "outputs": [
        {
          "name": "stderr",
          "output_type": "stream",
          "text": [
            "No cuda devices were available. The model runs on CPU\n",
            "Training epochs on cpu: 100%|██████████| 100/100 [00:20<00:00,  4.90epoch/s, loss=0.732, prev_loss=0.746]\n",
            "Evaluating on cpu:   0%|          | 0.00/201 [00:00<?, ?triple/s]WARNING:torch_max_mem.api:Encountered tensors on device_types={'cpu'} while only ['cuda'] are considered safe for automatic memory utilization maximization. This may lead to undocumented crashes (but can be safe, too).\n",
            "Evaluating on cpu: 100%|██████████| 201/201 [00:00<00:00, 1.61ktriple/s]\n",
            "INFO:pykeen.evaluation.evaluator:Evaluation took 0.20s seconds\n"
          ]
        }
      ],
      "source": [
        "result_TransE = pipeline(\n",
        "    model=TransE,\n",
        "    dataset='nations',\n",
        "    training_kwargs={'num_epochs':100},\n",
        "    random_seed=1603073093\n",
        ")"
      ]
    },
    {
      "cell_type": "code",
      "execution_count": null,
      "metadata": {
        "id": "tsBgxSFh3aWR",
        "outputId": "6c969efb-1719-4ae5-f088-d0a7bd0d0813"
      },
      "outputs": [
        {
          "name": "stdout",
          "output_type": "stream",
          "text": [
            "MRR: 0.36063244938850403\n",
            "Hits@1 : 0.014925373134328358\n",
            "Hits@3 : 0.6467661691542289\n",
            "Hits@5 : 0.8109452736318408\n",
            "Hits@10 : 0.9776119402985075\n"
          ]
        }
      ],
      "source": [
        "print(f\"MRR: {result_TransE.metric_results.to_flat_dict()['both.realistic.inverse_harmonic_mean_rank']}\")\n",
        "for k in [1,3,5,10]:\n",
        "    print(f\"Hits@{k} : {result_TransE.metric_results.to_flat_dict()['both.realistic.hits_at_'+str(k)]}\")"
      ]
    },
    {
      "cell_type": "markdown",
      "metadata": {},
      "source": [
        "## TransH"
      ]
    },
    {
      "cell_type": "code",
      "execution_count": 3,
      "metadata": {
        "id": "aoxLFIb63aWR"
      },
      "outputs": [
        {
          "name": "stderr",
          "output_type": "stream",
          "text": [
            "INFO:pykeen.datasets.utils:Loading cached preprocessed dataset from file:///C:/Users/%D0%9E%D0%BA%D1%81%D0%B0%D0%BD%D0%B0/.data/pykeen/datasets/nations/cache/47DEQpj8HBSa-_TImW-5JCeuQeRkm5NM\n",
            "INFO:pykeen.triples.triples_factory:Loading from file:///C:/Users/%D0%9E%D0%BA%D1%81%D0%B0%D0%BD%D0%B0/.data/pykeen/datasets/nations/cache/47DEQpj8HBSa-_TImW-5JCeuQeRkm5NM/training\n",
            "INFO:pykeen.triples.triples_factory:Loading from file:///C:/Users/%D0%9E%D0%BA%D1%81%D0%B0%D0%BD%D0%B0/.data/pykeen/datasets/nations/cache/47DEQpj8HBSa-_TImW-5JCeuQeRkm5NM/testing\n",
            "INFO:pykeen.triples.triples_factory:Loading from file:///C:/Users/%D0%9E%D0%BA%D1%81%D0%B0%D0%BD%D0%B0/.data/pykeen/datasets/nations/cache/47DEQpj8HBSa-_TImW-5JCeuQeRkm5NM/validation\n",
            "WARNING:pykeen.utils:No cuda devices were available. The model runs on CPU\n",
            "INFO:pykeen.pipeline.api:Using device: None\n",
            "Training epochs on cpu: 100%|██████████| 100/100 [00:24<00:00,  4.02epoch/s, loss=0.837, prev_loss=0.842]\n",
            "Evaluating on cpu:   0%|          | 0.00/201 [00:00<?, ?triple/s]WARNING:torch_max_mem.api:Encountered tensors on device_types={'cpu'} while only ['cuda'] are considered safe for automatic memory utilization maximization. This may lead to undocumented crashes (but can be safe, too).\n",
            "Evaluating on cpu: 100%|██████████| 201/201 [00:00<00:00, 1.53ktriple/s]\n",
            "INFO:pykeen.evaluation.evaluator:Evaluation took 0.15s seconds\n"
          ]
        }
      ],
      "source": [
        "result_TransH = pipeline(\n",
        "    model=TransH,\n",
        "    dataset='nations',\n",
        "    training_kwargs={'num_epochs':100},\n",
        "    random_seed=1603073093\n",
        ")"
      ]
    },
    {
      "cell_type": "code",
      "execution_count": null,
      "metadata": {
        "id": "V-uoW5Qo3aWS",
        "outputId": "484f832d-2da6-4002-d40e-fae55e17cefa"
      },
      "outputs": [
        {
          "name": "stdout",
          "output_type": "stream",
          "text": [
            "MRR: 0.43468767404556274\n",
            "Hits@1 : 0.14925373134328357\n",
            "Hits@3 : 0.6368159203980099\n",
            "Hits@5 : 0.845771144278607\n",
            "Hits@10 : 0.9701492537313433\n"
          ]
        }
      ],
      "source": [
        "print(f\"MRR: {result_TransH.metric_results.to_flat_dict()['both.realistic.inverse_harmonic_mean_rank']}\")\n",
        "for k in [1,3,5,10]:\n",
        "    print(f\"Hits@{k} : {result_TransH.metric_results.to_flat_dict()['both.realistic.hits_at_'+str(k)]}\")"
      ]
    },
    {
      "cell_type": "markdown",
      "metadata": {},
      "source": [
        "## TransD"
      ]
    },
    {
      "cell_type": "code",
      "execution_count": 4,
      "metadata": {
        "id": "4Dm5Ttq13aWS"
      },
      "outputs": [
        {
          "name": "stderr",
          "output_type": "stream",
          "text": [
            "INFO:pykeen.datasets.utils:Loading cached preprocessed dataset from file:///C:/Users/%D0%9E%D0%BA%D1%81%D0%B0%D0%BD%D0%B0/.data/pykeen/datasets/nations/cache/47DEQpj8HBSa-_TImW-5JCeuQeRkm5NM\n",
            "INFO:pykeen.triples.triples_factory:Loading from file:///C:/Users/%D0%9E%D0%BA%D1%81%D0%B0%D0%BD%D0%B0/.data/pykeen/datasets/nations/cache/47DEQpj8HBSa-_TImW-5JCeuQeRkm5NM/training\n",
            "INFO:pykeen.triples.triples_factory:Loading from file:///C:/Users/%D0%9E%D0%BA%D1%81%D0%B0%D0%BD%D0%B0/.data/pykeen/datasets/nations/cache/47DEQpj8HBSa-_TImW-5JCeuQeRkm5NM/testing\n",
            "INFO:pykeen.triples.triples_factory:Loading from file:///C:/Users/%D0%9E%D0%BA%D1%81%D0%B0%D0%BD%D0%B0/.data/pykeen/datasets/nations/cache/47DEQpj8HBSa-_TImW-5JCeuQeRkm5NM/validation\n",
            "WARNING:pykeen.utils:No cuda devices were available. The model runs on CPU\n",
            "INFO:pykeen.pipeline.api:Using device: None\n",
            "Training epochs on cpu: 100%|██████████| 100/100 [00:27<00:00,  3.63epoch/s, loss=0.771, prev_loss=0.789]\n",
            "Evaluating on cpu:   0%|          | 0.00/201 [00:00<?, ?triple/s]WARNING:torch_max_mem.api:Encountered tensors on device_types={'cpu'} while only ['cuda'] are considered safe for automatic memory utilization maximization. This may lead to undocumented crashes (but can be safe, too).\n",
            "Evaluating on cpu: 100%|██████████| 201/201 [00:00<00:00, 1.97ktriple/s]\n",
            "INFO:pykeen.evaluation.evaluator:Evaluation took 0.12s seconds\n"
          ]
        }
      ],
      "source": [
        "result_TransD = pipeline(\n",
        "    model=TransD,\n",
        "    dataset='nations',\n",
        "    training_kwargs={'num_epochs':100},\n",
        "    random_seed=1603073093\n",
        ")"
      ]
    },
    {
      "cell_type": "code",
      "execution_count": null,
      "metadata": {
        "id": "IFEhu-Yw3aWS",
        "outputId": "37da7c6d-b6b7-4bd6-c96a-573f6910e0d9"
      },
      "outputs": [
        {
          "name": "stdout",
          "output_type": "stream",
          "text": [
            "MRR: 0.36391735076904297\n",
            "Hits@1 : 0.004975124378109453\n",
            "Hits@3 : 0.6567164179104478\n",
            "Hits@5 : 0.845771144278607\n",
            "Hits@10 : 0.9776119402985075\n"
          ]
        }
      ],
      "source": [
        "print(f\"MRR: {result_TransD.metric_results.to_flat_dict()['both.realistic.inverse_harmonic_mean_rank']}\")\n",
        "for k in [1,3,5,10]:\n",
        "    print(f\"Hits@{k} : {result_TransD.metric_results.to_flat_dict()['both.realistic.hits_at_'+str(k)]}\")"
      ]
    },
    {
      "cell_type": "markdown",
      "metadata": {},
      "source": [
        "## RotatE"
      ]
    },
    {
      "cell_type": "code",
      "execution_count": 5,
      "metadata": {
        "id": "j0_AB7Cg3aWT"
      },
      "outputs": [
        {
          "name": "stderr",
          "output_type": "stream",
          "text": [
            "INFO:pykeen.datasets.utils:Loading cached preprocessed dataset from file:///C:/Users/%D0%9E%D0%BA%D1%81%D0%B0%D0%BD%D0%B0/.data/pykeen/datasets/nations/cache/47DEQpj8HBSa-_TImW-5JCeuQeRkm5NM\n",
            "INFO:pykeen.triples.triples_factory:Loading from file:///C:/Users/%D0%9E%D0%BA%D1%81%D0%B0%D0%BD%D0%B0/.data/pykeen/datasets/nations/cache/47DEQpj8HBSa-_TImW-5JCeuQeRkm5NM/training\n",
            "INFO:pykeen.triples.triples_factory:Loading from file:///C:/Users/%D0%9E%D0%BA%D1%81%D0%B0%D0%BD%D0%B0/.data/pykeen/datasets/nations/cache/47DEQpj8HBSa-_TImW-5JCeuQeRkm5NM/testing\n",
            "INFO:pykeen.triples.triples_factory:Loading from file:///C:/Users/%D0%9E%D0%BA%D1%81%D0%B0%D0%BD%D0%B0/.data/pykeen/datasets/nations/cache/47DEQpj8HBSa-_TImW-5JCeuQeRkm5NM/validation\n",
            "WARNING:pykeen.utils:No cuda devices were available. The model runs on CPU\n",
            "INFO:pykeen.pipeline.api:Using device: None\n",
            "Training epochs on cpu: 100%|██████████| 100/100 [00:26<00:00,  3.81epoch/s, loss=0.753, prev_loss=0.731]\n",
            "Evaluating on cpu:   0%|          | 0.00/201 [00:00<?, ?triple/s]WARNING:torch_max_mem.api:Encountered tensors on device_types={'cpu'} while only ['cuda'] are considered safe for automatic memory utilization maximization. This may lead to undocumented crashes (but can be safe, too).\n",
            "Evaluating on cpu: 100%|██████████| 201/201 [00:00<00:00, 1.78ktriple/s]\n",
            "INFO:pykeen.evaluation.evaluator:Evaluation took 0.13s seconds\n"
          ]
        }
      ],
      "source": [
        "result_RotatE = pipeline(\n",
        "    model=RotatE,\n",
        "    dataset='nations',\n",
        "    training_kwargs={'num_epochs':100},\n",
        "    random_seed=1603073093\n",
        ")"
      ]
    },
    {
      "cell_type": "code",
      "execution_count": null,
      "metadata": {
        "id": "uCWPPa4B3aWT",
        "outputId": "b7a402cc-5f7f-49be-f5af-50a3154fedd7"
      },
      "outputs": [
        {
          "name": "stdout",
          "output_type": "stream",
          "text": [
            "MRR: 0.5127915143966675\n",
            "Hits@1 : 0.29850746268656714\n",
            "Hits@3 : 0.6442786069651741\n",
            "Hits@5 : 0.7910447761194029\n",
            "Hits@10 : 0.9601990049751243\n"
          ]
        }
      ],
      "source": [
        "print(f\"MRR: {result_RotatE.metric_results.to_flat_dict()['both.realistic.inverse_harmonic_mean_rank']}\")\n",
        "for k in [1,3,5,10]:\n",
        "    print(f\"Hits@{k} : {result_RotatE.metric_results.to_flat_dict()['both.realistic.hits_at_'+str(k)]}\")"
      ]
    },
    {
      "cell_type": "markdown",
      "metadata": {},
      "source": [
        "## ComplEx"
      ]
    },
    {
      "cell_type": "code",
      "execution_count": 6,
      "metadata": {
        "id": "cVDSUoVW3aWT"
      },
      "outputs": [
        {
          "name": "stderr",
          "output_type": "stream",
          "text": [
            "INFO:pykeen.datasets.utils:Loading cached preprocessed dataset from file:///C:/Users/%D0%9E%D0%BA%D1%81%D0%B0%D0%BD%D0%B0/.data/pykeen/datasets/nations/cache/47DEQpj8HBSa-_TImW-5JCeuQeRkm5NM\n",
            "INFO:pykeen.triples.triples_factory:Loading from file:///C:/Users/%D0%9E%D0%BA%D1%81%D0%B0%D0%BD%D0%B0/.data/pykeen/datasets/nations/cache/47DEQpj8HBSa-_TImW-5JCeuQeRkm5NM/training\n",
            "INFO:pykeen.triples.triples_factory:Loading from file:///C:/Users/%D0%9E%D0%BA%D1%81%D0%B0%D0%BD%D0%B0/.data/pykeen/datasets/nations/cache/47DEQpj8HBSa-_TImW-5JCeuQeRkm5NM/testing\n",
            "INFO:pykeen.triples.triples_factory:Loading from file:///C:/Users/%D0%9E%D0%BA%D1%81%D0%B0%D0%BD%D0%B0/.data/pykeen/datasets/nations/cache/47DEQpj8HBSa-_TImW-5JCeuQeRkm5NM/validation\n",
            "WARNING:pykeen.utils:No cuda devices were available. The model runs on CPU\n",
            "INFO:pykeen.pipeline.api:Using device: None\n",
            "Training epochs on cpu: 100%|██████████| 100/100 [00:35<00:00,  2.85epoch/s, loss=6.33, prev_loss=6.3]\n",
            "Evaluating on cpu:   0%|          | 0.00/201 [00:00<?, ?triple/s]WARNING:torch_max_mem.api:Encountered tensors on device_types={'cpu'} while only ['cuda'] are considered safe for automatic memory utilization maximization. This may lead to undocumented crashes (but can be safe, too).\n",
            "Evaluating on cpu: 100%|██████████| 201/201 [00:00<00:00, 1.44ktriple/s]\n",
            "INFO:pykeen.evaluation.evaluator:Evaluation took 0.16s seconds\n"
          ]
        }
      ],
      "source": [
        "result_ComplEx = pipeline(\n",
        "    model=ComplEx,\n",
        "    dataset='nations',\n",
        "    training_kwargs={'num_epochs':100},\n",
        "    random_seed=1603073093\n",
        ")"
      ]
    },
    {
      "cell_type": "code",
      "execution_count": null,
      "metadata": {
        "id": "UE6mOQeo3aWU",
        "outputId": "011f8089-87d4-420d-e582-18ed91ff41fc"
      },
      "outputs": [
        {
          "name": "stdout",
          "output_type": "stream",
          "text": [
            "MRR: 0.41185036301612854\n",
            "Hits@1 : 0.20149253731343283\n",
            "Hits@3 : 0.48507462686567165\n",
            "Hits@5 : 0.7139303482587065\n",
            "Hits@10 : 0.9427860696517413\n"
          ]
        }
      ],
      "source": [
        "print(f\"MRR: {result_ComplEx.metric_results.to_flat_dict()['both.realistic.inverse_harmonic_mean_rank']}\")\n",
        "for k in [1,3,5,10]:\n",
        "    print(f\"Hits@{k} : {result_ComplEx.metric_results.to_flat_dict()['both.realistic.hits_at_'+str(k)]}\")"
      ]
    },
    {
      "cell_type": "markdown",
      "metadata": {},
      "source": [
        "## DistMult"
      ]
    },
    {
      "cell_type": "code",
      "execution_count": 7,
      "metadata": {
        "id": "09UxYxMl3aWU"
      },
      "outputs": [
        {
          "name": "stderr",
          "output_type": "stream",
          "text": [
            "INFO:pykeen.datasets.utils:Loading cached preprocessed dataset from file:///C:/Users/%D0%9E%D0%BA%D1%81%D0%B0%D0%BD%D0%B0/.data/pykeen/datasets/nations/cache/47DEQpj8HBSa-_TImW-5JCeuQeRkm5NM\n",
            "INFO:pykeen.triples.triples_factory:Loading from file:///C:/Users/%D0%9E%D0%BA%D1%81%D0%B0%D0%BD%D0%B0/.data/pykeen/datasets/nations/cache/47DEQpj8HBSa-_TImW-5JCeuQeRkm5NM/training\n",
            "INFO:pykeen.triples.triples_factory:Loading from file:///C:/Users/%D0%9E%D0%BA%D1%81%D0%B0%D0%BD%D0%B0/.data/pykeen/datasets/nations/cache/47DEQpj8HBSa-_TImW-5JCeuQeRkm5NM/testing\n",
            "INFO:pykeen.triples.triples_factory:Loading from file:///C:/Users/%D0%9E%D0%BA%D1%81%D0%B0%D0%BD%D0%B0/.data/pykeen/datasets/nations/cache/47DEQpj8HBSa-_TImW-5JCeuQeRkm5NM/validation\n",
            "WARNING:pykeen.utils:No cuda devices were available. The model runs on CPU\n",
            "INFO:pykeen.pipeline.api:Using device: None\n",
            "Training epochs on cpu: 100%|██████████| 100/100 [00:22<00:00,  4.46epoch/s, loss=0.96, prev_loss=0.961]\n",
            "Evaluating on cpu:   0%|          | 0.00/201 [00:00<?, ?triple/s]WARNING:torch_max_mem.api:Encountered tensors on device_types={'cpu'} while only ['cuda'] are considered safe for automatic memory utilization maximization. This may lead to undocumented crashes (but can be safe, too).\n",
            "Evaluating on cpu: 100%|██████████| 201/201 [00:00<00:00, 1.99ktriple/s]\n",
            "INFO:pykeen.evaluation.evaluator:Evaluation took 0.12s seconds\n"
          ]
        }
      ],
      "source": [
        "result_DistMult = pipeline(\n",
        "    model=DistMult,\n",
        "    dataset='nations',\n",
        "    training_kwargs={'num_epochs':100},\n",
        "    random_seed=1603073093\n",
        ")"
      ]
    },
    {
      "cell_type": "code",
      "execution_count": null,
      "metadata": {
        "id": "ymnpsOP_3aWU",
        "outputId": "12000307-07f4-4591-a0f6-1376641981bf"
      },
      "outputs": [
        {
          "name": "stdout",
          "output_type": "stream",
          "text": [
            "MRR: 0.6158139705657959\n",
            "Hits@1 : 0.4651741293532338\n",
            "Hits@3 : 0.6940298507462687\n",
            "Hits@5 : 0.8208955223880597\n",
            "Hits@10 : 0.9800995024875622\n"
          ]
        }
      ],
      "source": [
        "print(f\"MRR: {result_DistMult.metric_results.to_flat_dict()['both.realistic.inverse_harmonic_mean_rank']}\")\n",
        "for k in [1,3,5,10]:\n",
        "    print(f\"Hits@{k} : {result_DistMult.metric_results.to_flat_dict()['both.realistic.hits_at_'+str(k)]}\")"
      ]
    },
    {
      "cell_type": "markdown",
      "metadata": {},
      "source": [
        "## TuckER"
      ]
    },
    {
      "cell_type": "code",
      "execution_count": null,
      "metadata": {
        "id": "Pbuo4smr3aWV"
      },
      "outputs": [],
      "source": [
        "result_TuckER = pipeline(\n",
        "    model=TuckER,\n",
        "    dataset='nations',\n",
        "    training_kwargs={'num_epochs':100},\n",
        "    random_seed=1603073093\n",
        ")"
      ]
    },
    {
      "cell_type": "code",
      "execution_count": 6,
      "metadata": {
        "colab": {
          "base_uri": "https://localhost:8080/"
        },
        "id": "1TzImpe73aWV",
        "outputId": "698b4d16-3bd9-4be9-9394-b79cef8524cf"
      },
      "outputs": [
        {
          "name": "stdout",
          "output_type": "stream",
          "text": [
            "MRR: 0.4602665603160858\n",
            "Hits@1 : 0.26119402985074625\n",
            "Hits@3 : 0.5298507462686567\n",
            "Hits@5 : 0.7164179104477612\n",
            "Hits@10 : 0.9552238805970149\n"
          ]
        }
      ],
      "source": [
        "print(f\"MRR: {result_TuckER.metric_results.to_flat_dict()['both.realistic.inverse_harmonic_mean_rank']}\")\n",
        "for k in [1,3,5,10]:\n",
        "    print(f\"Hits@{k} : {result_TuckER.metric_results.to_flat_dict()['both.realistic.hits_at_'+str(k)]}\")"
      ]
    },
    {
      "cell_type": "markdown",
      "metadata": {},
      "source": [
        "## KGCModel"
      ]
    },
    {
      "cell_type": "code",
      "execution_count": 7,
      "metadata": {},
      "outputs": [],
      "source": [
        "def kgcmodel_interaction(\n",
        "    h: FloatTensor,\n",
        "    r: FloatTensor,\n",
        "    t: FloatTensor,\n",
        "    p: Union[int, str] = 2,\n",
        "    power_norm: bool = False,\n",
        ") -> FloatTensor:\n",
        "    return (tensor_product(h, r, t).sum(dim=-1) * negative_norm_of_sum(h, r, -t, p=p, power_norm=power_norm))\n",
        "\n",
        "class KGCModelInteraction(NormBasedInteraction[FloatTensor, FloatTensor, FloatTensor]):\n",
        "    \n",
        "    func = kgcmodel_interaction\n",
        "\n",
        "\n",
        "class KGCModel(ERModel):\n",
        "\n",
        "    hpo_default: ClassVar[Mapping[str, Any]] = dict(\n",
        "        embedding_dim=DEFAULT_EMBEDDING_HPO_EMBEDDING_DIM_RANGE,\n",
        "        scoring_fct_norm=dict(type=int, low=1, high=2),\n",
        "    )\n",
        "\n",
        "    def __init__(\n",
        "        self,\n",
        "        *,\n",
        "        embedding_dim: int = 50,\n",
        "        scoring_fct_norm: int = 1,\n",
        "        entity_initializer: Hint[Initializer] = xavier_uniform_,\n",
        "        entity_constrainer: Hint[Constrainer] = functional.normalize,\n",
        "        relation_initializer: Hint[Initializer] = xavier_uniform_norm_,\n",
        "        relation_constrainer: Hint[Constrainer] = None,\n",
        "        regularizer: HintOrType[Regularizer] = LpRegularizer,\n",
        "        regularizer_kwargs: OptionalKwargs = None,\n",
        "        **kwargs,\n",
        "    ) -> None:\n",
        "\n",
        "        if regularizer is LpRegularizer and regularizer_kwargs is None:\n",
        "            regularizer_kwargs = DistMult.regularizer_default_kwargs\n",
        "\n",
        "        super().__init__(\n",
        "            interaction=KGCModelInteraction,\n",
        "            interaction_kwargs=dict(p=scoring_fct_norm),\n",
        "            entity_representations=Embedding,\n",
        "            entity_representations_kwargs=dict(\n",
        "                embedding_dim=embedding_dim,\n",
        "                initializer=entity_initializer,\n",
        "                constrainer=entity_constrainer,\n",
        "            ),\n",
        "            relation_representations=Embedding,\n",
        "            relation_representations_kwargs=dict(\n",
        "                embedding_dim=embedding_dim,\n",
        "                initializer=relation_initializer,\n",
        "                constrainer=relation_constrainer,\n",
        "                regularizer=regularizer,\n",
        "                regularizer_kwargs=regularizer_kwargs,\n",
        "            ),\n",
        "            **kwargs,\n",
        "        )"
      ]
    },
    {
      "cell_type": "code",
      "execution_count": 8,
      "metadata": {},
      "outputs": [
        {
          "name": "stderr",
          "output_type": "stream",
          "text": [
            "INFO:pykeen.datasets.utils:Loading cached preprocessed dataset from file:///C:/Users/%D0%9E%D0%BA%D1%81%D0%B0%D0%BD%D0%B0/.data/pykeen/datasets/nations/cache/47DEQpj8HBSa-_TImW-5JCeuQeRkm5NM\n",
            "INFO:pykeen.triples.triples_factory:Loading from file:///C:/Users/%D0%9E%D0%BA%D1%81%D0%B0%D0%BD%D0%B0/.data/pykeen/datasets/nations/cache/47DEQpj8HBSa-_TImW-5JCeuQeRkm5NM/training\n"
          ]
        },
        {
          "name": "stderr",
          "output_type": "stream",
          "text": [
            "INFO:pykeen.triples.triples_factory:Loading from file:///C:/Users/%D0%9E%D0%BA%D1%81%D0%B0%D0%BD%D0%B0/.data/pykeen/datasets/nations/cache/47DEQpj8HBSa-_TImW-5JCeuQeRkm5NM/testing\n",
            "INFO:pykeen.triples.triples_factory:Loading from file:///C:/Users/%D0%9E%D0%BA%D1%81%D0%B0%D0%BD%D0%B0/.data/pykeen/datasets/nations/cache/47DEQpj8HBSa-_TImW-5JCeuQeRkm5NM/validation\n",
            "WARNING:pykeen.utils:No cuda devices were available. The model runs on CPU\n",
            "INFO:pykeen.pipeline.api:Using device: None\n",
            "Training epochs on cpu: 100%|██████████| 100/100 [00:20<00:00,  4.89epoch/s, loss=0.623, prev_loss=0.627]\n",
            "Evaluating on cpu:   0%|          | 0.00/201 [00:00<?, ?triple/s]WARNING:torch_max_mem.api:Encountered tensors on device_types={'cpu'} while only ['cuda'] are considered safe for automatic memory utilization maximization. This may lead to undocumented crashes (but can be safe, too).\n",
            "Evaluating on cpu: 100%|██████████| 201/201 [00:00<00:00, 1.81ktriple/s]\n",
            "INFO:pykeen.evaluation.evaluator:Evaluation took 0.15s seconds\n"
          ]
        }
      ],
      "source": [
        "result_KGCModel = pipeline(\n",
        "        model=KGCModel,\n",
        "        model_kwargs={'embedding_dim': 50},\n",
        "        dataset='Nations',\n",
        "        optimizer='Adam',\n",
        "        loss='marginranking',\n",
        "        loss_kwargs=dict(margin=1),\n",
        "        training_kwargs={'num_epochs':100},\n",
        "        training_loop='sLCWA',\n",
        "        evaluator = RankBasedEvaluator,\n",
        "        random_seed=1603073093\n",
        "    )"
      ]
    },
    {
      "cell_type": "code",
      "execution_count": 9,
      "metadata": {},
      "outputs": [
        {
          "name": "stdout",
          "output_type": "stream",
          "text": [
            "MRR: 0.6257765293121338\n",
            "Hits@1 : 0.4651741293532338\n",
            "Hits@3 : 0.7189054726368159\n",
            "Hits@5 : 0.8532338308457711\n",
            "Hits@10 : 0.972636815920398\n"
          ]
        }
      ],
      "source": [
        "print(f\"MRR: {result_KGCModel.metric_results.to_flat_dict()['both.realistic.inverse_harmonic_mean_rank']}\")\n",
        "for k in [1,3,5,10]:\n",
        "    print(f\"Hits@{k} : {result_KGCModel.metric_results.to_flat_dict()['both.realistic.hits_at_'+str(k)]}\")"
      ]
    }
  ],
  "metadata": {
    "accelerator": "GPU",
    "colab": {
      "gpuType": "T4",
      "provenance": []
    },
    "kernelspec": {
      "display_name": "Python 3",
      "name": "python3"
    },
    "language_info": {
      "codemirror_mode": {
        "name": "ipython",
        "version": 3
      },
      "file_extension": ".py",
      "mimetype": "text/x-python",
      "name": "python",
      "nbconvert_exporter": "python",
      "pygments_lexer": "ipython3",
      "version": "3.10.7"
    }
  },
  "nbformat": 4,
  "nbformat_minor": 0
}
